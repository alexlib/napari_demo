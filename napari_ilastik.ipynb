{
 "cells": [
  {
   "cell_type": "markdown",
   "metadata": {},
   "source": [
    "# Ilastik-like napari"
   ]
  },
  {
   "cell_type": "markdown",
   "metadata": {},
   "source": [
    "## Import packages"
   ]
  },
  {
   "cell_type": "code",
   "execution_count": 1,
   "metadata": {},
   "outputs": [],
   "source": [
    "import os \n",
    "import warnings\n",
    "warnings.filterwarnings('ignore')\n",
    "import napari\n",
    "import skimage\n",
    "import matplotlib.pyplot as plt\n",
    "import numpy as np\n",
    "import pandas as pd\n",
    "\n",
    "import skimage.filters\n",
    "from sklearn.model_selection import train_test_split\n",
    "from sklearn.ensemble import RandomForestClassifier\n"
   ]
  },
  {
   "cell_type": "markdown",
   "metadata": {},
   "source": [
    "## Create the napari view"
   ]
  },
  {
   "cell_type": "code",
   "execution_count": 2,
   "metadata": {},
   "outputs": [],
   "source": [
    "%gui qt5"
   ]
  },
  {
   "cell_type": "markdown",
   "metadata": {},
   "source": [
    "We work with the skimage coins image"
   ]
  },
  {
   "cell_type": "code",
   "execution_count": 3,
   "metadata": {},
   "outputs": [],
   "source": [
    "image = skimage.data.coins()"
   ]
  },
  {
   "cell_type": "markdown",
   "metadata": {},
   "source": [
    "The view has three layers: image_layer for the image, labels_layer to draw labels, and seg_layer to show the prediction:"
   ]
  },
  {
   "cell_type": "code",
   "execution_count": 4,
   "metadata": {},
   "outputs": [],
   "source": [
    "view = napari.Viewer()\n",
    "#image layer\n",
    "image_layer = view.add_image(image)\n",
    "\n",
    "#labels layer. We create two labelled single-pixels for the two categories, so that \n",
    "#sklearn stays happy after one draws the first label\n",
    "labels_layer = view.add_labels(data = np.zeros(image.shape),name = 'label1')\n",
    "labels_layer.data[0,0]=1\n",
    "labels_layer.data[1,1]=2\n",
    "\n",
    "#prediction layer\n",
    "seg_layer = view.add_image(data = np.zeros(image.shape),name = 'predict',\n",
    "                           opacity = 0.2, contrast_limits = [0,2], colormap = 'hsv')"
   ]
  },
  {
   "cell_type": "markdown",
   "metadata": {},
   "source": [
    "## Series of filters for ML"
   ]
  },
  {
   "cell_type": "markdown",
   "metadata": {},
   "source": [
    "We create a series of filtered images to capture different types of information from the image. If one uses N filters, one has N features per pixel to learn."
   ]
  },
  {
   "cell_type": "code",
   "execution_count": 5,
   "metadata": {},
   "outputs": [],
   "source": [
    "im_gauss = skimage.filters.gaussian(image,sigma = 10, preserve_range = True)\n",
    "im_gauss2 = skimage.filters.gaussian(image,sigma = 20, preserve_range = True)\n",
    "im_frangi = skimage.filters.frangi(image)\n",
    "im_prewitt = skimage.filters.prewitt(image)\n",
    "im_meijering = skimage.filters.meijering(image)\n",
    "im_gauss_laplace = skimage.filters.laplace(skimage.filters.gaussian(image,sigma = 5,preserve_range=True),ksize=10)\n",
    "im_gradient = skimage.filters.rank.gradient(image,skimage.morphology.disk(8))\n",
    "im_entropy = skimage.filters.rank.entropy(image,skimage.morphology.disk(8))\n",
    "im_roberts = skimage.filters.roberts(skimage.filters.gaussian(image,sigma = 5,preserve_range=True))\n",
    "\n",
    "all_filt = [im_gauss,im_gauss2,im_frangi,im_prewitt,im_meijering,im_gauss_laplace,im_gradient,im_entropy,im_roberts]\n",
    "names = ['Gauss $\\sigma$=10', 'Gauss $\\sigma$=20','Frangi','Prewitt','Meijering','Gauss+Laplace', 'Gradient',\n",
    "        'Entropy','Roberts']"
   ]
  },
  {
   "cell_type": "markdown",
   "metadata": {},
   "source": [
    "Here we add the series of filtered images to the napari viewer. There's probably a more elegant way to do that."
   ]
  },
  {
   "cell_type": "code",
   "execution_count": 6,
   "metadata": {},
   "outputs": [],
   "source": [
    "view.all_filt = all_filt\n",
    "view.names = names"
   ]
  },
  {
   "cell_type": "markdown",
   "metadata": {},
   "source": [
    "## Interactive view\n",
    "\n",
    "Finally we use a mouse callback to update the ML calculated segmentation after each addition of a drawn region."
   ]
  },
  {
   "cell_type": "code",
   "execution_count": 7,
   "metadata": {},
   "outputs": [],
   "source": [
    "@view.mouse_drag_callbacks.append\n",
    "def mouse_callback(viewer, event):\n",
    "    \n",
    "    #clicking\n",
    "    yield\n",
    "    #dragging\n",
    "    while event.type == 'mouse_move':\n",
    "        yield\n",
    "    \n",
    "    #create feature and targets dataframes/series\n",
    "    features = pd.DataFrame(index=np.arange(np.sum(viewer.layers[1].data>0)))\n",
    "    \n",
    "    for ind, x in enumerate(viewer.names):\n",
    "        features[x] = np.ravel(viewer.all_filt[ind][viewer.layers[1].data>0])\n",
    "\n",
    "    targets = pd.Series(np.ravel(viewer.layers[1].data[viewer.layers[1].data>0]).astype(int))\n",
    "\n",
    "    #split train/test\n",
    "    X, X_test, y, y_test = train_test_split(features, targets, \n",
    "                                        test_size = 0.2, \n",
    "                                        random_state = 42)\n",
    "    \n",
    "    #train a random forest classififer\n",
    "    random_forrest = RandomForestClassifier(n_estimators=1000)\n",
    "    random_forrest.fit(X, y)\n",
    "    \n",
    "    #classify all pixels and update the segmentation layer\n",
    "    all_pixels = pd.DataFrame(index=np.arange(len(np.ravel(viewer.layers[0].data))))\n",
    "    for ind, x in enumerate(viewer.names):\n",
    "        all_pixels[x] = np.ravel(viewer.all_filt[ind])\n",
    "    predictions = random_forrest.predict(all_pixels)\n",
    "    \n",
    "    predicted_image = np.reshape(predictions, viewer.layers[0].data.shape)\n",
    "    \n",
    "    viewer.layers[2].data = predicted_image.astype(np.uint8)\n",
    "    "
   ]
  },
  {
   "cell_type": "code",
   "execution_count": null,
   "metadata": {},
   "outputs": [],
   "source": []
  }
 ],
 "metadata": {
  "kernelspec": {
   "display_name": "Python 3",
   "language": "python",
   "name": "python3"
  },
  "language_info": {
   "codemirror_mode": {
    "name": "ipython",
    "version": 3
   },
   "file_extension": ".py",
   "mimetype": "text/x-python",
   "name": "python",
   "nbconvert_exporter": "python",
   "pygments_lexer": "ipython3",
   "version": "3.7.3"
  },
  "toc": {
   "base_numbering": 1,
   "nav_menu": {},
   "number_sections": false,
   "sideBar": true,
   "skip_h1_title": false,
   "title_cell": "Table of Contents",
   "title_sidebar": "Contents",
   "toc_cell": false,
   "toc_position": {},
   "toc_section_display": true,
   "toc_window_display": true
  }
 },
 "nbformat": 4,
 "nbformat_minor": 2
}
